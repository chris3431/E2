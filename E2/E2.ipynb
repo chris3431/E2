{
 "cells": [
  {
   "cell_type": "code",
   "execution_count": 258,
   "id": "ad6cb7df",
   "metadata": {},
   "outputs": [],
   "source": [
    "import pandas as pd\n",
    "import matplotlib.pyplot as plt"
   ]
  },
  {
   "cell_type": "code",
   "execution_count": 259,
   "id": "f675daaf",
   "metadata": {},
   "outputs": [],
   "source": [
    "##leemos el csv y la variable datos y lo filtramos para que la comuna '-' no aparezca\n",
    "datos=pd.read_csv('data/BIPComuna_std.csv')\n",
    "datos=datos[datos.Comuna != '-']\n",
    "\n",
    "##leemos el segundo csv y con un for de data1.index recorremos toda la columna del dataframe para realizar un filtro \n",
    "##y sumar los valores en los contadores correspondientes\n",
    "cont=0\n",
    "cont2=0\n",
    "data1=pd.read_csv('data/BIPTotal_std.csv')\n",
    "for filtro in data1.index:\n",
    "    if '2019' in data1.loc[filtro,'Fecha']:\n",
    "        cont=data1['Transacciones']+cont\n",
    "    else:\n",
    "        cont2=data1['Transacciones']+cont2"
   ]
  },
  {
   "cell_type": "code",
   "execution_count": 260,
   "id": "68c83d5d",
   "metadata": {},
   "outputs": [
    {
     "data": {
      "text/html": [
       "<div>\n",
       "<style scoped>\n",
       "    .dataframe tbody tr th:only-of-type {\n",
       "        vertical-align: middle;\n",
       "    }\n",
       "\n",
       "    .dataframe tbody tr th {\n",
       "        vertical-align: top;\n",
       "    }\n",
       "\n",
       "    .dataframe thead th {\n",
       "        text-align: right;\n",
       "    }\n",
       "</style>\n",
       "<table border=\"1\" class=\"dataframe\">\n",
       "  <thead>\n",
       "    <tr style=\"text-align: right;\">\n",
       "      <th></th>\n",
       "      <th>Comuna</th>\n",
       "      <th>Codigo comuna</th>\n",
       "      <th>Transacciones</th>\n",
       "      <th>Fecha</th>\n",
       "    </tr>\n",
       "  </thead>\n",
       "  <tbody>\n",
       "    <tr>\n",
       "      <th>0</th>\n",
       "      <td>Cerrillos</td>\n",
       "      <td>13102.0</td>\n",
       "      <td>18365.0</td>\n",
       "      <td>2020-03-01</td>\n",
       "    </tr>\n",
       "    <tr>\n",
       "      <th>1</th>\n",
       "      <td>Cerrillos</td>\n",
       "      <td>13102.0</td>\n",
       "      <td>55826.0</td>\n",
       "      <td>2020-03-02</td>\n",
       "    </tr>\n",
       "    <tr>\n",
       "      <th>2</th>\n",
       "      <td>Cerrillos</td>\n",
       "      <td>13102.0</td>\n",
       "      <td>57927.0</td>\n",
       "      <td>2020-03-03</td>\n",
       "    </tr>\n",
       "    <tr>\n",
       "      <th>3</th>\n",
       "      <td>Cerrillos</td>\n",
       "      <td>13102.0</td>\n",
       "      <td>58642.0</td>\n",
       "      <td>2020-03-04</td>\n",
       "    </tr>\n",
       "    <tr>\n",
       "      <th>4</th>\n",
       "      <td>Cerrillos</td>\n",
       "      <td>13102.0</td>\n",
       "      <td>57773.0</td>\n",
       "      <td>2020-03-05</td>\n",
       "    </tr>\n",
       "    <tr>\n",
       "      <th>...</th>\n",
       "      <td>...</td>\n",
       "      <td>...</td>\n",
       "      <td>...</td>\n",
       "      <td>...</td>\n",
       "    </tr>\n",
       "    <tr>\n",
       "      <th>2549</th>\n",
       "      <td>Vitacura</td>\n",
       "      <td>13132.0</td>\n",
       "      <td>8619.0</td>\n",
       "      <td>2020-05-11</td>\n",
       "    </tr>\n",
       "    <tr>\n",
       "      <th>2550</th>\n",
       "      <td>Vitacura</td>\n",
       "      <td>13132.0</td>\n",
       "      <td>8026.0</td>\n",
       "      <td>2020-05-12</td>\n",
       "    </tr>\n",
       "    <tr>\n",
       "      <th>2551</th>\n",
       "      <td>Vitacura</td>\n",
       "      <td>13132.0</td>\n",
       "      <td>7974.0</td>\n",
       "      <td>2020-05-13</td>\n",
       "    </tr>\n",
       "    <tr>\n",
       "      <th>2552</th>\n",
       "      <td>Vitacura</td>\n",
       "      <td>13132.0</td>\n",
       "      <td>8362.0</td>\n",
       "      <td>2020-05-14</td>\n",
       "    </tr>\n",
       "    <tr>\n",
       "      <th>2553</th>\n",
       "      <td>Vitacura</td>\n",
       "      <td>13132.0</td>\n",
       "      <td>8362.0</td>\n",
       "      <td>2020-05-15</td>\n",
       "    </tr>\n",
       "  </tbody>\n",
       "</table>\n",
       "<p>2554 rows × 4 columns</p>\n",
       "</div>"
      ],
      "text/plain": [
       "         Comuna  Codigo comuna  Transacciones       Fecha\n",
       "0     Cerrillos        13102.0        18365.0  2020-03-01\n",
       "1     Cerrillos        13102.0        55826.0  2020-03-02\n",
       "2     Cerrillos        13102.0        57927.0  2020-03-03\n",
       "3     Cerrillos        13102.0        58642.0  2020-03-04\n",
       "4     Cerrillos        13102.0        57773.0  2020-03-05\n",
       "...         ...            ...            ...         ...\n",
       "2549   Vitacura        13132.0         8619.0  2020-05-11\n",
       "2550   Vitacura        13132.0         8026.0  2020-05-12\n",
       "2551   Vitacura        13132.0         7974.0  2020-05-13\n",
       "2552   Vitacura        13132.0         8362.0  2020-05-14\n",
       "2553   Vitacura        13132.0         8362.0  2020-05-15\n",
       "\n",
       "[2554 rows x 4 columns]"
      ]
     },
     "execution_count": 260,
     "metadata": {},
     "output_type": "execute_result"
    }
   ],
   "source": [
    "##verificamos el contenido de csv 1\n",
    "datos"
   ]
  },
  {
   "cell_type": "code",
   "execution_count": 261,
   "id": "4a5b533b",
   "metadata": {},
   "outputs": [
    {
     "data": {
      "text/html": [
       "<div>\n",
       "<style scoped>\n",
       "    .dataframe tbody tr th:only-of-type {\n",
       "        vertical-align: middle;\n",
       "    }\n",
       "\n",
       "    .dataframe tbody tr th {\n",
       "        vertical-align: top;\n",
       "    }\n",
       "\n",
       "    .dataframe thead th {\n",
       "        text-align: right;\n",
       "    }\n",
       "</style>\n",
       "<table border=\"1\" class=\"dataframe\">\n",
       "  <thead>\n",
       "    <tr style=\"text-align: right;\">\n",
       "      <th></th>\n",
       "      <th>Fecha</th>\n",
       "      <th>Transacciones</th>\n",
       "    </tr>\n",
       "  </thead>\n",
       "  <tbody>\n",
       "    <tr>\n",
       "      <th>0</th>\n",
       "      <td>2019-01-01</td>\n",
       "      <td>973244</td>\n",
       "    </tr>\n",
       "    <tr>\n",
       "      <th>1</th>\n",
       "      <td>2019-01-02</td>\n",
       "      <td>4516314</td>\n",
       "    </tr>\n",
       "    <tr>\n",
       "      <th>2</th>\n",
       "      <td>2019-01-03</td>\n",
       "      <td>4828483</td>\n",
       "    </tr>\n",
       "    <tr>\n",
       "      <th>3</th>\n",
       "      <td>2019-01-04</td>\n",
       "      <td>4928740</td>\n",
       "    </tr>\n",
       "    <tr>\n",
       "      <th>4</th>\n",
       "      <td>2019-01-05</td>\n",
       "      <td>2666538</td>\n",
       "    </tr>\n",
       "    <tr>\n",
       "      <th>...</th>\n",
       "      <td>...</td>\n",
       "      <td>...</td>\n",
       "    </tr>\n",
       "    <tr>\n",
       "      <th>496</th>\n",
       "      <td>2020-05-11</td>\n",
       "      <td>816363</td>\n",
       "    </tr>\n",
       "    <tr>\n",
       "      <th>497</th>\n",
       "      <td>2020-05-12</td>\n",
       "      <td>791922</td>\n",
       "    </tr>\n",
       "    <tr>\n",
       "      <th>498</th>\n",
       "      <td>2020-05-13</td>\n",
       "      <td>792389</td>\n",
       "    </tr>\n",
       "    <tr>\n",
       "      <th>499</th>\n",
       "      <td>2020-05-14</td>\n",
       "      <td>815803</td>\n",
       "    </tr>\n",
       "    <tr>\n",
       "      <th>500</th>\n",
       "      <td>2020-05-15</td>\n",
       "      <td>837035</td>\n",
       "    </tr>\n",
       "  </tbody>\n",
       "</table>\n",
       "<p>501 rows × 2 columns</p>\n",
       "</div>"
      ],
      "text/plain": [
       "          Fecha  Transacciones\n",
       "0    2019-01-01         973244\n",
       "1    2019-01-02        4516314\n",
       "2    2019-01-03        4828483\n",
       "3    2019-01-04        4928740\n",
       "4    2019-01-05        2666538\n",
       "..          ...            ...\n",
       "496  2020-05-11         816363\n",
       "497  2020-05-12         791922\n",
       "498  2020-05-13         792389\n",
       "499  2020-05-14         815803\n",
       "500  2020-05-15         837035\n",
       "\n",
       "[501 rows x 2 columns]"
      ]
     },
     "execution_count": 261,
     "metadata": {},
     "output_type": "execute_result"
    }
   ],
   "source": [
    "##verificamos el contenido del csv 2\n",
    "data1"
   ]
  },
  {
   "cell_type": "code",
   "execution_count": 262,
   "id": "c74a2f05",
   "metadata": {},
   "outputs": [
    {
     "data": {
      "image/png": "[encoded data removed]",
      "text/plain": [
       "<Figure size 432x288 with 1 Axes>"
      ]
     },
     "metadata": {
      "needs_background": "light"
     },
     "output_type": "display_data"
    }
   ],
   "source": [
    "##graficamos la cantidad de transacciones por fecha y por comuna\n",
    "plt.plot(datos['Fecha'],datos['Transacciones'])\n",
    "plt.show()"
   ]
  },
  {
   "cell_type": "code",
   "execution_count": 263,
   "id": "0021c7f1",
   "metadata": {},
   "outputs": [
    {
     "data": {
      "image/png": "[encoded data removed]",
      "text/plain": [
       "<Figure size 432x288 with 1 Axes>"
      ]
     },
     "metadata": {
      "needs_background": "light"
     },
     "output_type": "display_data"
    }
   ],
   "source": [
    "##graficamos la suma de las transacciones de cada año\n",
    "plt.bar('2019',cont)\n",
    "plt.bar('2020',cont2)\n",
    "plt.show()"
   ]
  }
 ],
 "metadata": {
  "kernelspec": {
   "display_name": "Python 3",
   "language": "python",
   "name": "python3"
  },
  "language_info": {
   "codemirror_mode": {
    "name": "ipython",
    "version": 3
   },
   "file_extension": ".py",
   "mimetype": "text/x-python",
   "name": "python",
   "nbconvert_exporter": "python",
   "pygments_lexer": "ipython3",
   "version": "3.8.8"
  }
 },
 "nbformat": 4,
 "nbformat_minor": 5
}
